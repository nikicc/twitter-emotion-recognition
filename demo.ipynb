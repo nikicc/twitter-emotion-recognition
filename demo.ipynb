{
 "cells": [
  {
   "cell_type": "markdown",
   "metadata": {},
   "source": [
    "# Twitter Emotion Recognition Demo\n",
    "\n",
    "Original repository: https://github.com/nikicc/twitter-emotion-recognition\n",
    "\n",
    "The original requirements file is not sufficient to build a working environment. This comment here had working configuration for the requirements file: https://github.com/nikicc/twitter-emotion-recognition/issues/6#issuecomment-467891717\n",
    "\n",
    "This has been tested to work with Binder.\n",
    "\n",
    "Please check the original repos README for full information and a recommended citation "
   ]
  },
  {
   "cell_type": "code",
   "execution_count": null,
   "metadata": {},
   "outputs": [],
   "source": [
    "import os;\n",
    "os.environ['KERAS_BACKEND'] = 'theano'\n",
    "\n",
    "import pandas as pd\n",
    "\n",
    "from emotion_predictor import EmotionPredictor"
   ]
  },
  {
   "cell_type": "code",
   "execution_count": null,
   "metadata": {},
   "outputs": [],
   "source": [
    "# Pandas presentation options\n",
    "pd.options.display.max_colwidth = 150   # show whole tweet's content\n",
    "pd.options.display.width = 200          # don't break columns\n",
    "# pd.options.display.max_columns = 7      # maximal number of columns"
   ]
  },
  {
   "cell_type": "code",
   "execution_count": null,
   "metadata": {},
   "outputs": [],
   "source": [
    "# Predictor for Ekman's emotions in multiclass setting.\n",
    "model = EmotionPredictor(classification='ekman', setting='mc', use_unison_model=True)"
   ]
  },
  {
   "cell_type": "code",
   "execution_count": null,
   "metadata": {},
   "outputs": [],
   "source": [
    "#  these are the examples from the demo.py file provided in the original repo - examples contain misogyny\n",
    "tweets = [\n",
    "    \"Watching the sopranos again from start to finish!\",\n",
    "    \"Finding out i have to go to the  dentist tomorrow\",\n",
    "    \"Sun in my eyes but I don't mind, what a beautiful day we've had in New York today!\",\n",
    "    \"Feels like someone's stabbed me in my hope\",\n",
    "    \"Do people have no Respect for themselves or you know others peoples homes\",\n",
    "    \"I want to go outside and chalk but I have no chalk\",\n",
    "    \"I hate coming to the doctors when I feel as if I might have a big problem\",\n",
    "    \"My mom wasn't mad\",\n",
    "    \"You don't indicate once I'm already in the road THEN rev and honk at me you stupid bitch #learnhowtodrive #bitch\",\n",
    "    \"Come home from work and this is on my doorstep. I guess he has a secret admirer\",\n",
    "    \"The 'egyption hot models' facebook page is pathetic... simply photos of obese horny women.\",\n",
    "    \"I HATE PAPERS AH #AH #HATE\",\n",
    "]"
   ]
  },
  {
   "cell_type": "code",
   "execution_count": null,
   "metadata": {},
   "outputs": [],
   "source": [
    "predictions = model.predict_classes(tweets)"
   ]
  },
  {
   "cell_type": "code",
   "execution_count": null,
   "metadata": {},
   "outputs": [],
   "source": [
    "predictions"
   ]
  },
  {
   "cell_type": "code",
   "execution_count": null,
   "metadata": {},
   "outputs": [],
   "source": [
    "probabilities = model.predict_probabilities(tweets)"
   ]
  },
  {
   "cell_type": "code",
   "execution_count": null,
   "metadata": {},
   "outputs": [],
   "source": [
    "probabilities"
   ]
  },
  {
   "cell_type": "code",
   "execution_count": null,
   "metadata": {},
   "outputs": [],
   "source": [
    "embeddings = model.embed(tweets)"
   ]
  },
  {
   "cell_type": "code",
   "execution_count": null,
   "metadata": {},
   "outputs": [],
   "source": [
    "embeddings"
   ]
  },
  {
   "cell_type": "code",
   "execution_count": null,
   "metadata": {},
   "outputs": [],
   "source": []
  }
 ],
 "metadata": {
  "kernelspec": {
   "display_name": "Python 3",
   "language": "python",
   "name": "python3"
  },
  "language_info": {
   "codemirror_mode": {
    "name": "ipython",
    "version": 3
   },
   "file_extension": ".py",
   "mimetype": "text/x-python",
   "name": "python",
   "nbconvert_exporter": "python",
   "pygments_lexer": "ipython3",
   "version": "3.7.8"
  }
 },
 "nbformat": 4,
 "nbformat_minor": 4
}
